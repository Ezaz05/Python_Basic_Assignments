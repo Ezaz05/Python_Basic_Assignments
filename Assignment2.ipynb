{
 "cells": [
  {
   "cell_type": "markdown",
   "metadata": {},
   "source": [
    "### 1. What are the two values of the Boolean data type? How do you write them?\n",
    "    Answer : The two values of the Boolean data types are true and false. We write them as True and False. Basically, we are using boolean data types for logical and relational comparision."
   ]
  },
  {
   "cell_type": "markdown",
   "metadata": {},
   "source": [
    "### 2. What are the three different types of Boolean operators?\n",
    "    Answer : Three different types of Boolean operators are not,or,and and these are also used for logical and relational   comparison."
   ]
  },
  {
   "cell_type": "markdown",
   "metadata": {},
   "source": [
    "### 3. Make a list of each Boolean operators truth tables (i.e. every possible combination of Boolean values for the operator and what it evaluate ).\n",
    "    Answer : a) Truth table to 'or' operator\n",
    "                x        y        x or y \n",
    "               True     True       True\n",
    "               True     False      True\n",
    "               False    True       True\n",
    "               False    False      False\n",
    "         \n",
    "             b) Truth table to 'and' operator\n",
    "                x        y        x and y \n",
    "               True     True       True\n",
    "               True     False      False\n",
    "               False    True       False\n",
    "               False    False      True\n",
    "        \n",
    "            c) Truth table to 'not' operator\n",
    "                x        y        x not y \n",
    "               True     True       False\n",
    "               True     False      True\n",
    "               False    True       True\n",
    "               False    False      False\n",
    "             "
   ]
  },
  {
   "cell_type": "markdown",
   "metadata": {},
   "source": [
    "### 4. What are the values of the following expressions?\n",
    "    (5 > 4) and (3 == 5) - False\n",
    "    not (5 > 4) - False\n",
    "    (5 > 4) or (3 == 5) - True\n",
    "    not ((5 > 4) or (3 == 5)) - False\n",
    "    (True and True) and (True == False) - False\n",
    "    (not False) or (not True) - True"
   ]
  },
  {
   "cell_type": "markdown",
   "metadata": {},
   "source": [
    "### 5. What are the six comparison operators?\n",
    "    Answer : python has following comparision operators:\n",
    "            a) Less than (<)\n",
    "            b) Greater than (>)\n",
    "            c) Less than Equal to (<=)\n",
    "            d) Greater than Equal to (>=)\n",
    "            e) Equal to (==)\n",
    "            f) Not Equal to (!=)\n",
    "         "
   ]
  },
  {
   "cell_type": "markdown",
   "metadata": {},
   "source": [
    "### 6. How do you tell the difference between the equal to and assignment operators?Describe a condition and when you would use one.\n",
    "    Answer : The equal to operator basically compare the two variables and return the result as true or false whereas assignment operator is used to assign a value to the left hand side variable.e.g, a=10. Here, we are assigning 10 to variabe a and for comparision we used == operator.e.g, a==10, Here we are checking the condition like wheather a is consisting 10 or not. If it consist 10 than it returns true orelse returns false."
   ]
  },
  {
   "cell_type": "markdown",
   "metadata": {},
   "source": [
    "### 7. Identify the three blocks in this code:"
   ]
  },
  {
   "cell_type": "code",
   "execution_count": 2,
   "metadata": {},
   "outputs": [
    {
     "name": "stdout",
     "output_type": "stream",
     "text": [
      "ham\n",
      "spam\n",
      "spam\n"
     ]
    }
   ],
   "source": [
    "spam = 0\n",
    "if spam == 10:\n",
    "    print('eggs')\n",
    "if spam > 5:\n",
    "    print('bacon')\n",
    "else:\n",
    "    print('ham')\n",
    "    print('spam')\n",
    "    print('spam')"
   ]
  },
  {
   "cell_type": "markdown",
   "metadata": {},
   "source": [
    "### 8. Write code that prints Hello if 1 is stored in spam, prints Howdy if 2 is stored in spam, and prints Greetings! if anything else is stored in spam."
   ]
  },
  {
   "cell_type": "code",
   "execution_count": 3,
   "metadata": {},
   "outputs": [
    {
     "name": "stdout",
     "output_type": "stream",
     "text": [
      "Enter any number:3\n",
      "Greetings!\n"
     ]
    }
   ],
   "source": [
    "spam = int(input(\"Enter any number:\"))\n",
    "if spam == 1:\n",
    "    print(\"Hello\")\n",
    "elif spam == 2:\n",
    "    print(\"Howdy\")\n",
    "else:\n",
    "    print(\"Greetings!\")\n",
    "    "
   ]
  },
  {
   "cell_type": "markdown",
   "metadata": {},
   "source": [
    "### 9. If your programme is stuck in an endless loop, what keys you’ll press?\n",
    "    Answer :  If our programme is stuck in an endless loop we will press ctrl+c or by using menu tab also we can stop the code.i.e, in kernel there is a option to interrupt the code."
   ]
  },
  {
   "cell_type": "markdown",
   "metadata": {},
   "source": [
    "### 10. How can you tell the difference between break and continue?\n",
    "    Answer: break and continue both are statement which can control the flow of loop where break is responsible to stop/end the loop whereas continue is responsible to continue the loop until it satisfy the codition.\n"
   ]
  },
  {
   "cell_type": "markdown",
   "metadata": {},
   "source": [
    "### 11. In a for loop, what is the difference between range(10), range(0, 10), and range(0, 10, 1)?\n",
    "\n",
    "     Answer: range(10)- it generates 10 numbers except upper bound between 0 to 9\n",
    "             range(0,10) - it generates 10 number except upper bound between 0 to 9 but here difference from pervious one we   are defining the initial/lower bound to generate the number.\n",
    "            range(0,10,1) - it generates 10 number except upper bound between 0 to 9 by defining the initial/lower bound to generate the number but here we are defining the stepsize as well."
   ]
  },
  {
   "cell_type": "markdown",
   "metadata": {},
   "source": [
    "### 12. Write a short program that prints the numbers 1 to 10 using a for loop. Then write an equivalent program    that prints the numbers 1 to 10 using a while loop."
   ]
  },
  {
   "cell_type": "code",
   "execution_count": 4,
   "metadata": {},
   "outputs": [
    {
     "name": "stdout",
     "output_type": "stream",
     "text": [
      "1 2 3 4 5 6 7 8 9 10 "
     ]
    }
   ],
   "source": [
    "#using for loop\n",
    "for i in range(1,11):\n",
    "    print(i,end=' ')"
   ]
  },
  {
   "cell_type": "code",
   "execution_count": 5,
   "metadata": {},
   "outputs": [
    {
     "name": "stdout",
     "output_type": "stream",
     "text": [
      "1 2 3 4 5 6 7 8 9 10 "
     ]
    }
   ],
   "source": [
    "#using while loop\n",
    "n=1\n",
    "while n<=10:\n",
    "    print(n,end=' ')\n",
    "    n=n+1\n",
    "    "
   ]
  },
  {
   "cell_type": "markdown",
   "metadata": {},
   "source": [
    "### 13. If you had a function named bacon() inside a module named spam, how would you call it after importing spam?\n",
    "    Answer : After importing the module name spam we will alias the module name spam or by followed the module_name.function_name we can call.\n",
    "       i.e, spam.bacon()\n",
    "        or import spam as sp\n",
    "           sp.bacon()\n",
    "    "
   ]
  }
 ],
 "metadata": {
  "kernelspec": {
   "display_name": "Python 3",
   "language": "python",
   "name": "python3"
  },
  "language_info": {
   "codemirror_mode": {
    "name": "ipython",
    "version": 3
   },
   "file_extension": ".py",
   "mimetype": "text/x-python",
   "name": "python",
   "nbconvert_exporter": "python",
   "pygments_lexer": "ipython3",
   "version": "3.8.3"
  }
 },
 "nbformat": 4,
 "nbformat_minor": 4
}
