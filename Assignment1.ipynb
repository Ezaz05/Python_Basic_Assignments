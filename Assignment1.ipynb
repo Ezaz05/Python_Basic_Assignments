{
 "cells": [
  {
   "cell_type": "raw",
   "metadata": {},
   "source": [
    "1. In the below elements which of them are values or an expression? eg:- values can be integer or string and expressions will be mathematical operators.\n",
    "* \n",
    "'hello'\n",
    "-87.8\n",
    "- \n",
    "/ \n",
    "+\n",
    "6 \n",
    "\n",
    "Ans:      \n",
    "            * = Expression\n",
    "      'hello' = Values\n",
    "       -87.8  = Values\n",
    "            - = Expression\n",
    "            / = Expression\n",
    "            + = Expression\n",
    "            6 = Values "
   ]
  },
  {
   "cell_type": "raw",
   "metadata": {},
   "source": [
    "2. What is the difference between string and variable?\n",
    "\n",
    "Ans: String is a data type and it can only contain sequence of characters.In addition to letters it can also contains numbers,      spaces, punctuations and even line breaks. But, we cannot store any other types of data in it.\n",
    "     Since, it is builtin data types and immutable so we cannot perform any calculatoion on it, we can only use it. Primarily        it is used for reading and writing purpose.\n",
    "     \n",
    "     A variable is a container which hold some values in it and help us to use the value when it requires.We can store any type      of data in it.\n",
    "     e.g, name = 'Ramakrishna'"
   ]
  },
  {
   "cell_type": "raw",
   "metadata": {},
   "source": [
    "3. Describe three different data types.\n",
    "\n",
    "Ans: Data types are something which defines the type of the data. Following are the three different types of data types       available in python:-\n",
    "     a-> int  = int data types represents the integer data.\n",
    "         e.g, x = 6\n",
    "     b -> str  =  str data types represents the string or text data.\n",
    "         e.g  y = 'Rahul'\n",
    "     c -> float = float data types represents the floating-point data.\n",
    "         e.g, z = 13.96"
   ]
  },
  {
   "cell_type": "raw",
   "metadata": {},
   "source": [
    "4. What is an expression made up of? What do all expressions do?\n",
    "\n",
    "Ans: Expression are made up with the combination of operands and operators and expressions helps us to perform our logics.\n",
    "     e.g, 1+2 = 3 \n",
    "          1*3 = 3"
   ]
  },
  {
   "cell_type": "raw",
   "metadata": {},
   "source": [
    "5. This assignment statements, like spam = 10. What is the difference between an expression and a statement?\n",
    "\n",
    "Ans: A statement is something which perform some action whereas expression is a combination of operands and operators that          yields a result value.\n",
    "     e.g, statements are print, assignment\n",
    "          expression are 35*96 which yields a result value 360."
   ]
  },
  {
   "cell_type": "raw",
   "metadata": {},
   "source": [
    "6. After running the following code, what does the variable bacon contain?\n",
    "bacon = 22\n",
    "bacon + 1\n",
    "\n",
    "Ans: 23"
   ]
  },
  {
   "cell_type": "raw",
   "metadata": {},
   "source": [
    "7. What should the values of the following two terms be?\n",
    "'spam' + 'spamspam'\n",
    "'spam' * 3\n",
    "\n",
    "Ans: 'spamspamspam'"
   ]
  },
  {
   "cell_type": "raw",
   "metadata": {},
   "source": [
    "8. Why is eggs a valid variable name while 100 is invalid?\n",
    "\n",
    "Ans:  1. Since, a variable is a container which hold some values in it and here we can say eggs is a valid variable bcz it can \n",
    "         contain some values in it whereas 100 is a value and it doesnot even meaningful and we cannot store anything it.\n",
    "      2. As per variable declaration rule, variable should start with a letter or the underscore or can be alphanumeric                 (e.g, Title123) but numbers should come after the alphabet and it cannot start with a number."
   ]
  },
  {
   "cell_type": "raw",
   "metadata": {},
   "source": [
    "9. What three functions can be used to get the integer, floating-point number, or string version of a value?\n",
    "\n",
    "Ans:        integer = int()\n",
    "     floating-point = float()\n",
    "             string = str()"
   ]
  },
  {
   "cell_type": "raw",
   "metadata": {},
   "source": [
    "10. Why does this expression cause an error? How can you fix it?\n",
    "'I have eaten ' + 99 + ' burritos.'\n",
    "\n",
    "Ans: Because we cannot concatenate a string with integer.\n",
    "     To fix this we can perform typecasting. If we covert the integer into String we can fix the error.\n",
    "     i.e, 'I have eaten ' + str(99) + ' burritos.'"
   ]
  },
  {
   "cell_type": "code",
   "execution_count": null,
   "metadata": {},
   "outputs": [],
   "source": []
  }
 ],
 "metadata": {
  "kernelspec": {
   "display_name": "Python 3",
   "language": "python",
   "name": "python3"
  },
  "language_info": {
   "codemirror_mode": {
    "name": "ipython",
    "version": 3
   },
   "file_extension": ".py",
   "mimetype": "text/x-python",
   "name": "python",
   "nbconvert_exporter": "python",
   "pygments_lexer": "ipython3",
   "version": "3.8.3"
  }
 },
 "nbformat": 4,
 "nbformat_minor": 4
}
